{
 "cells": [
  {
   "cell_type": "code",
   "execution_count": 9,
   "metadata": {},
   "outputs": [],
   "source": [
    "import pandas as pd\n",
    "import numpy as np\n",
    "import os\n",
    "import datetime"
   ]
  },
  {
   "cell_type": "code",
   "execution_count": 7,
   "metadata": {},
   "outputs": [],
   "source": [
    "sales_data = pd.read_csv('dry/SalesData-Table 1.csv')"
   ]
  },
  {
   "cell_type": "code",
   "execution_count": 10,
   "metadata": {},
   "outputs": [
    {
     "name": "stdout",
     "output_type": "stream",
     "text": [
      "0        1/1/17\n",
      "1        1/2/17\n",
      "2        1/3/17\n",
      "3        1/4/17\n",
      "4        1/5/17\n",
      "         ...   \n",
      "7283    6/26/19\n",
      "7284    6/27/19\n",
      "7285    6/28/19\n",
      "7286    6/29/19\n",
      "7287    6/30/19\n",
      "Name: 日期, Length: 7288, dtype: object\n"
     ]
    }
   ],
   "source": [
    "print(sales_data['日期'])"
   ]
  },
  {
   "cell_type": "code",
   "execution_count": 12,
   "metadata": {},
   "outputs": [],
   "source": [
    "def to_date_obj(date_str):\n",
    "    m, d, y = date_str.split('/')\n",
    "    ret = datetime.datetime(int('20'+y), int(m), int(d))\n",
    "    return ret\n",
    "sales_data['日期'] = sales_data['日期'].apply(to_date_obj)"
   ]
  },
  {
   "cell_type": "code",
   "execution_count": 20,
   "metadata": {},
   "outputs": [],
   "source": [
    "def split_df(sales_data):\n",
    "    all_sales = {}\n",
    "    all_sell = {}\n",
    "    all_orders = {}\n",
    "    all_storage = {}\n",
    "\n",
    "    for x in pd.unique(sales_data['貨號']):\n",
    "        all_sales[x] = sales_data[sales_data['貨號']==x]\n",
    "        all_sell[x] = all_sales[x]['銷售數量']\n",
    "        all_orders[x] = all_sales[x]['進貨數量']\n",
    "        all_storage[x] = all_sales[x]['庫存數量']\n",
    "    return all_sales, all_sell, all_orders, all_storage"
   ]
  },
  {
   "cell_type": "code",
   "execution_count": 22,
   "metadata": {},
   "outputs": [],
   "source": [
    "all_sales, all_sell, all_orders, all_storage = split_df(sales_data)"
   ]
  },
  {
   "cell_type": "code",
   "execution_count": 26,
   "metadata": {},
   "outputs": [
    {
     "name": "stdout",
     "output_type": "stream",
     "text": [
      "[  2   4   4   4  26   7   3   3  12   2   3   4  23  24   5   1  11   4\n",
      "   5   3   0   5   5   6   5   1  22  11   7   1   2   0   4   6   9   0\n",
      "   6   4  12   2   0   6   5   4   3   1   3   4  11   4   0   2   2   5\n",
      "   0   7   7   3   8   2   0  22   4  19   2   4   4   7   6  14  29   7\n",
      "  16  11   0  11   7  13   0   0   6   2  18   1  17   4   7  12   0   4\n",
      "   7   6   6   9   4  15  12  15  67  34  44  24  14  24  16  22  15  21\n",
      "   8  14  21  16  10  13   3   6   4  20  14  15   6  16  20   9  30  30\n",
      "  21  24  10   8  21  10  32  17   8   4  23  18   9   5   9   7   7   2\n",
      "   4  10  12  26  14   3  14  14   2  15   3  20  23   8  17  16  26   4\n",
      "  35  24   8  10   3  23  16  20  11  19   4  15  28  23   5  14   1  12\n",
      "  34  20  18  31  18  16  11   3  21  23   5  17  12   6  26  10  18  10\n",
      "   3  14   4  12  21   7  23   4   8  16  15  29  14  12  23   7   7  14\n",
      "  17  49  21  22  20  10  26  22  14   3  11  21  16   9  12   8  19  14\n",
      "   1  46  12   4  41  26  15   4  26  53  51  16  23  73  17   8  10  16\n",
      "   5   8   1   2   8  12   8   6  14   4  13  17  17  16  22  20   5  17\n",
      "   7  14  21  24  24   9  42  23   5  16  35  19   6   6  10   4   6  12\n",
      "  13   4  10   5  11  24  13   3  13   5   8  11  10   4   2   6  13   8\n",
      "   3   3  35   4  15   9  10  12  15  11   6   2  10  22  13  21   9  13\n",
      "   8   5   4  14  14  29   5   6  11   0   5   9   8   1   8   4   4   2\n",
      "  16   5   4   1  17  10   2   6  12   4  20  11  10   8   9  19   9   3\n",
      "   7   6   7  13   4   2   8  12   8   4   9   2   8   8   6  11   5  14\n",
      "   8   4   8   2   2   4   3  16   1  13   8   5  14   4   4   6   0   1\n",
      "   5   1   2   5   4  11   0   2   4   2  11   4   1   0  79  13  11  11\n",
      "   5  14  21   5   4   8  13  11  32  18   9   0  10  11  11  10   0   1\n",
      "   6   7  11   6   2   2   2   2   5   4   3   9   2   5   1  11  41  26\n",
      "   9   5   4   5   3   6  11   4  32  20   3   4   3  10  14  14   5   5\n",
      "  12  16  11  11   8   4  11  12  12  14  10   5   7  14  17  27  13  16\n",
      "  13  12   9  12   4  12   9  11   7   7  21   8   8  21  21  11   5   6\n",
      "   7  17  13  13   5  11  23  10  10   8  12  28  29  18  20   8   9  17\n",
      "   7   0   5  16   9  28   6   1  11  26  16  17   5   2  11  12  27  14\n",
      "  11  33  13  19   9  17  14  11  16   8   6   2  29  10  12  20   5  19\n",
      "  10  29  41  42  12  27  13  16 223  42  31  31  37   9  36  20  42  16\n",
      "  16  23  16  16  20  26  13   9  10  20  38  17   2   8   8   8  16  59\n",
      "  10   7  10  37  81  13  43  70  32  12  19  31   0   0  14   7  17   6\n",
      "  12  21   9  13  12   3  22   2  13   1   5  10   1  16   3  13  50  27\n",
      "  32  19  17   5  16  13  10   3   5  12  11   2  14  22  17  14   8  68\n",
      "   5   2  11   3   3   1  13   0   7  16   8   7   5  10  16   2  19   9\n",
      "   7  22  18   6   1  20   9   6   6   9   5   8  10   4   7   8   6   6\n",
      "  12  13   9  14  27   8   2   4   6   5   9   9  17  11  15  36  11   0\n",
      "  29   0  12  17   4   4  11   8   8   4  20   0  34   7   7   1   1  23\n",
      "   7  10   0  12  11   5   6  10  42   9  19   5   5   4  12   7   7   8\n",
      "  16   5  10   9   9   5   3   4   1   8   4   5   1   2   5   4  25   8\n",
      "   1  14   4  16  12   5   9  25  23  13   5  13   4  11  42   9   7   5\n",
      "  16   7   5   4  31   9   7  11  16  14   4   3   2   2   5   8   6  29\n",
      "  14   3  11   4   3   5  14   6   7  41   8   7   6  11   8  17  17  20\n",
      "   6   8  15   9  12  22  11  17  16   5  15   7  12  41  17   7  25  16\n",
      "   8   5   4   7   1   7  10   4   7  35  11  14   1   6  10  10   8  15\n",
      "  12  16  11   6  13  17   7  23   3   9   9   1   3  28  25   5  15  20\n",
      "   7   8   6  34  22  18  14   7   9  11  22  24  14   4  10   4  14  13\n",
      "  22   9  14  52  15  34  15  81  12   9   9   1   7  15  13   7  12  14\n",
      "   3  17  12   5   6   1   0  20  19  12  13]\n"
     ]
    }
   ],
   "source": [
    "print(all_sell[6160195].to_numpy())"
   ]
  },
  {
   "cell_type": "code",
   "execution_count": null,
   "metadata": {},
   "outputs": [],
   "source": []
  }
 ],
 "metadata": {
  "kernelspec": {
   "display_name": "Python 3",
   "language": "python",
   "name": "python3"
  },
  "language_info": {
   "codemirror_mode": {
    "name": "ipython",
    "version": 3
   },
   "file_extension": ".py",
   "mimetype": "text/x-python",
   "name": "python",
   "nbconvert_exporter": "python",
   "pygments_lexer": "ipython3",
   "version": "3.7.4"
  }
 },
 "nbformat": 4,
 "nbformat_minor": 2
}
